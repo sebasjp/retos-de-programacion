{
 "cells": [
  {
   "cell_type": "markdown",
   "metadata": {},
   "source": [
    "## Reto #7: CONTANDO PALABRAS"
   ]
  },
  {
   "cell_type": "code",
   "execution_count": null,
   "metadata": {},
   "outputs": [],
   "source": [
    "# /*\n",
    "#  * Crea un programa que cuente cuantas veces se repite cada palabra\n",
    "#  * y que muestre el recuento final de todas ellas.\n",
    "#  * - Los signos de puntuación no forman parte de la palabra.\n",
    "#  * - Una palabra es la misma aunque aparezca en mayúsculas y minúsculas.\n",
    "#  * - No se pueden utilizar funciones propias del lenguaje que\n",
    "#  *   lo resuelvan automáticamente.\n",
    "#  */"
   ]
  },
  {
   "cell_type": "code",
   "execution_count": 1,
   "metadata": {},
   "outputs": [],
   "source": [
    "cadena = \"hello world. I like to program world!!..\"\n",
    "\n",
    "cadena = cadena.lower()\n",
    "cadena = cadena.replace(\".\", \"\")\n",
    "cadena = cadena.replace(\",\", \"\")\n",
    "cadena = cadena.replace(\":\", \"\")\n",
    "cadena = cadena.replace(\";\", \"\")\n",
    "cadena = cadena.replace(\"!\", \"\")\n",
    "\n",
    "words_list = cadena.split()\n",
    "words_unique = set(words_list)\n",
    "\n",
    "results = {x: 0 for x in words_unique}\n",
    "for x in words_unique:\n",
    "    results[x] = sum([1 for w in words_list if x == w])"
   ]
  },
  {
   "cell_type": "code",
   "execution_count": 2,
   "metadata": {},
   "outputs": [
    {
     "data": {
      "text/plain": [
       "{'hello': 1, 'to': 1, 'program': 1, 'world': 2, 'i': 1, 'like': 1}"
      ]
     },
     "execution_count": 2,
     "metadata": {},
     "output_type": "execute_result"
    }
   ],
   "source": [
    "results"
   ]
  },
  {
   "cell_type": "markdown",
   "metadata": {},
   "source": [
    "---"
   ]
  }
 ],
 "metadata": {
  "kernelspec": {
   "display_name": "Python 3",
   "language": "python",
   "name": "python3"
  },
  "language_info": {
   "codemirror_mode": {
    "name": "ipython",
    "version": 3
   },
   "file_extension": ".py",
   "mimetype": "text/x-python",
   "name": "python",
   "nbconvert_exporter": "python",
   "pygments_lexer": "ipython3",
   "version": "3.8.5"
  }
 },
 "nbformat": 4,
 "nbformat_minor": 4
}
