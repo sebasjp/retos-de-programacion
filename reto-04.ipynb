{
 "cells": [
  {
   "cell_type": "markdown",
   "metadata": {},
   "source": [
    "## Reto #4: ÁREA DE UN POLÍGONO"
   ]
  },
  {
   "cell_type": "code",
   "execution_count": null,
   "metadata": {},
   "outputs": [],
   "source": [
    "# /*\n",
    "#  * Crea una única función (importante que sólo sea una) que sea capaz\n",
    "#  * de calcular y retornar el área de un polígono.\n",
    "#  * - La función recibirá por parámetro sólo UN polígono a la vez.\n",
    "#  * - Los polígonos soportados serán Triángulo, Cuadrado y Rectángulo.\n",
    "#  * - Imprime el cálculo del área de un polígono de cada tipo.\n",
    "#  */"
   ]
  },
  {
   "cell_type": "code",
   "execution_count": 2,
   "metadata": {},
   "outputs": [],
   "source": [
    "def calculate_area(polygon:str, base:float, height:float):\n",
    "   \n",
    "    if polygon == \"triangulo\":\n",
    "        area = base * height / 2\n",
    "    elif polygon in [\"cuadrado\", \"rectangulo\"]:\n",
    "        area = base * height\n",
    "    else:\n",
    "        raise ValueError(f\"poligono {polygon} no soportado. Valido: triangulo, cuadrado, rectangulo\")\n",
    "   \n",
    "    return area"
   ]
  },
  {
   "cell_type": "code",
   "execution_count": 3,
   "metadata": {},
   "outputs": [
    {
     "data": {
      "text/plain": [
       "3.0"
      ]
     },
     "execution_count": 3,
     "metadata": {},
     "output_type": "execute_result"
    }
   ],
   "source": [
    "calculate_area(polygon=\"triangulo\", base=2., height=3.)"
   ]
  },
  {
   "cell_type": "markdown",
   "metadata": {},
   "source": [
    "---"
   ]
  }
 ],
 "metadata": {
  "kernelspec": {
   "display_name": "Python 3",
   "language": "python",
   "name": "python3"
  },
  "language_info": {
   "codemirror_mode": {
    "name": "ipython",
    "version": 3
   },
   "file_extension": ".py",
   "mimetype": "text/x-python",
   "name": "python",
   "nbconvert_exporter": "python",
   "pygments_lexer": "ipython3",
   "version": "3.8.5"
  }
 },
 "nbformat": 4,
 "nbformat_minor": 4
}
