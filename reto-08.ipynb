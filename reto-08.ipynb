{
 "cells": [
  {
   "cell_type": "markdown",
   "metadata": {},
   "source": [
    "## Reto #8: DECIMAL A BINARIO"
   ]
  },
  {
   "cell_type": "code",
   "execution_count": null,
   "metadata": {},
   "outputs": [],
   "source": [
    "# /*\n",
    "#  * Crea un programa se encargue de transformar un número\n",
    "#  * decimal a binario sin utilizar funciones propias del lenguaje que lo hagan directamente.\n",
    "#  */\n",
    "\n",
    "# referencia procedimiento: https://www.youtube.com/watch?v=DG009wcbBw4"
   ]
  },
  {
   "cell_type": "code",
   "execution_count": 1,
   "metadata": {},
   "outputs": [],
   "source": [
    "def get_integer_part(num):\n",
    "    int_part = str(num).split(\".\")[0]\n",
    "    return int(int_part)    "
   ]
  },
  {
   "cell_type": "code",
   "execution_count": 2,
   "metadata": {},
   "outputs": [],
   "source": [
    "def get_binary_from_int_part(num_init: float, base: int= 2):\n",
    "    \n",
    "    int_part_init = get_integer_part(num_init)\n",
    "    \n",
    "    binario_list_int = []\n",
    "    integer_part = int_part_init\n",
    "\n",
    "    while integer_part > 1:\n",
    "\n",
    "        binario_list_int.append(integer_part % base)\n",
    "        num = integer_part / base\n",
    "        integer_part = get_integer_part(num)\n",
    "\n",
    "        if integer_part == 1:\n",
    "            binario_list_int.append(integer_part)\n",
    "    \n",
    "    binario_list_int.reverse()\n",
    "    \n",
    "    return binario_list_int"
   ]
  },
  {
   "cell_type": "code",
   "execution_count": 3,
   "metadata": {},
   "outputs": [],
   "source": [
    "def get_binary_from_double_part(num_init: float, base: int= 2):\n",
    "    \n",
    "    int_part_init = get_integer_part(num_init)\n",
    "    double_part_init = round(num_init - int_part_init, 2)\n",
    "    \n",
    "    init_operation = double_part_init * base\n",
    "    operation = init_operation    \n",
    "    binario_list_double = []\n",
    "    counter = 0\n",
    "\n",
    "    int_part = get_integer_part(operation)\n",
    "    binario_list_double.append(int_part)\n",
    "    operation = round(operation - int_part, 2) * base\n",
    "    \n",
    "    while (operation != init_operation) & (counter < 10):\n",
    "        int_part = get_integer_part(operation)\n",
    "        binario_list_double.append(int_part)\n",
    "\n",
    "        operation = round(operation - int_part, 2) * base\n",
    "        counter += 1\n",
    "    \n",
    "    binario_list_double.append(get_integer_part(operation))\n",
    "    \n",
    "    return binario_list_double"
   ]
  },
  {
   "cell_type": "code",
   "execution_count": 4,
   "metadata": {},
   "outputs": [],
   "source": [
    "num_init = 13.8"
   ]
  },
  {
   "cell_type": "code",
   "execution_count": 5,
   "metadata": {},
   "outputs": [],
   "source": [
    "binario_list_int = get_binary_from_int_part(num_init=num_init)\n",
    "binario_list_double = get_binary_from_double_part(num_init=num_init)"
   ]
  },
  {
   "cell_type": "code",
   "execution_count": 6,
   "metadata": {},
   "outputs": [],
   "source": [
    "binario_int = \"\".join([str(x) for x in binario_list_int])\n",
    "binario_double = \"\".join([str(x) for x in binario_list_double])"
   ]
  },
  {
   "cell_type": "code",
   "execution_count": 7,
   "metadata": {},
   "outputs": [
    {
     "name": "stdout",
     "output_type": "stream",
     "text": [
      "Numero: 13.8; en numero binario: 1101.11001\n"
     ]
    }
   ],
   "source": [
    "print(f\"Numero: {num_init}; en numero binario: {binario_int}.{binario_double}\")"
   ]
  },
  {
   "cell_type": "markdown",
   "metadata": {},
   "source": [
    "---"
   ]
  }
 ],
 "metadata": {
  "kernelspec": {
   "display_name": "Python 3",
   "language": "python",
   "name": "python3"
  },
  "language_info": {
   "codemirror_mode": {
    "name": "ipython",
    "version": 3
   },
   "file_extension": ".py",
   "mimetype": "text/x-python",
   "name": "python",
   "nbconvert_exporter": "python",
   "pygments_lexer": "ipython3",
   "version": "3.8.5"
  }
 },
 "nbformat": 4,
 "nbformat_minor": 4
}
