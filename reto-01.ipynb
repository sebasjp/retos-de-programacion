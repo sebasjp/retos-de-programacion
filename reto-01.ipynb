{
 "cells": [
  {
   "cell_type": "markdown",
   "metadata": {},
   "source": [
    "## Reto #1: ¿ES UN ANAGRAMA?"
   ]
  },
  {
   "cell_type": "code",
   "execution_count": null,
   "metadata": {},
   "outputs": [],
   "source": [
    "#/*\n",
    "# * Escribe una función que reciba dos palabras (String) y retorne\n",
    "# * verdadero o falso (Bool) según sean o no anagramas.\n",
    "# * - Un Anagrama consiste en formar una palabra reordenando TODAS\n",
    "# *   las letras de otra palabra inicial.\n",
    "# * - NO hace falta comprobar que ambas palabras existan.\n",
    "# * - Dos palabras exactamente iguales no son anagrama.\n",
    "#*/"
   ]
  },
  {
   "cell_type": "code",
   "execution_count": 4,
   "metadata": {},
   "outputs": [],
   "source": [
    "def check_anagrama(word1:str, word2:str):\n",
    "    \n",
    "    word1 = word1.lower()\n",
    "    word2 = word2.lower()\n",
    "    \n",
    "    if word1 == word2:\n",
    "        return False\n",
    "    else:\n",
    "        return sorted(word1) == sorted(word2)"
   ]
  },
  {
   "cell_type": "code",
   "execution_count": 7,
   "metadata": {},
   "outputs": [
    {
     "data": {
      "text/plain": [
       "True"
      ]
     },
     "execution_count": 7,
     "metadata": {},
     "output_type": "execute_result"
    }
   ],
   "source": [
    "check_anagrama(word1=\"amor\", word2=\"roma\")"
   ]
  },
  {
   "cell_type": "markdown",
   "metadata": {},
   "source": [
    "---"
   ]
  }
 ],
 "metadata": {
  "kernelspec": {
   "display_name": "Python 3",
   "language": "python",
   "name": "python3"
  },
  "language_info": {
   "codemirror_mode": {
    "name": "ipython",
    "version": 3
   },
   "file_extension": ".py",
   "mimetype": "text/x-python",
   "name": "python",
   "nbconvert_exporter": "python",
   "pygments_lexer": "ipython3",
   "version": "3.8.5"
  }
 },
 "nbformat": 4,
 "nbformat_minor": 4
}
