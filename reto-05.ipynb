{
 "cells": [
  {
   "cell_type": "markdown",
   "metadata": {},
   "source": [
    "## Reto #5: ASPECT RATIO DE UNA IMAGEN"
   ]
  },
  {
   "cell_type": "code",
   "execution_count": null,
   "metadata": {},
   "outputs": [],
   "source": [
    "#/*\n",
    "# * Crea un programa que se encargue de calcular el aspect ratio de una\n",
    "# * imagen a partir de una url.\n",
    "# * - Url de ejemplo: https://raw.githubusercontent.com/mouredev/\n",
    "# *   mouredev/master/mouredev_github_profile.png\n",
    "# * - Por ratio hacemos referencia por ejemplo a los \"16:9\" de una\n",
    "# *   imagen de 1920*1080px.\n",
    "# */"
   ]
  },
  {
   "cell_type": "code",
   "execution_count": 1,
   "metadata": {},
   "outputs": [
    {
     "name": "stdout",
     "output_type": "stream",
     "text": [
      "(820, 2560, 4)\n"
     ]
    }
   ],
   "source": [
    "import imageio\n",
    "\n",
    "url = \"https://raw.githubusercontent.com/mouredev/mouredev/master/mouredev_github_profile.png\"\n",
    "\n",
    "im = imageio.imread(url)\n",
    "print(im.shape)"
   ]
  },
  {
   "cell_type": "code",
   "execution_count": 2,
   "metadata": {},
   "outputs": [],
   "source": [
    "def find_aspect_ratio(h, w):\n",
    "    \"\"\"\n",
    "    This function aims to calculate the aspect ratio \n",
    "    by simplifying the fraction h/w    \n",
    "    \"\"\"\n",
    "    divisor = 2\n",
    "\n",
    "    while divisor < 9:    \n",
    "\n",
    "        res2 = h % divisor\n",
    "        res1 = w % divisor        \n",
    "\n",
    "        if (res1 + res2) == 0:\n",
    "            h = h / divisor\n",
    "            w = w / divisor            \n",
    "\n",
    "            divisor = 2\n",
    "        else:\n",
    "            divisor += 1\n",
    "    \n",
    "    return int(h), int(w)"
   ]
  },
  {
   "cell_type": "code",
   "execution_count": 3,
   "metadata": {},
   "outputs": [
    {
     "name": "stdout",
     "output_type": "stream",
     "text": [
      "The image 820x2560 has an aspect ratio 41:128\n"
     ]
    }
   ],
   "source": [
    "h, w, _ = im.shape\n",
    "\n",
    "h_, w_ = find_aspect_ratio(h=h, w=w)\n",
    "\n",
    "print(f\"The image {h}x{w} has an aspect ratio {h_}:{w_}\")"
   ]
  },
  {
   "cell_type": "code",
   "execution_count": 4,
   "metadata": {},
   "outputs": [
    {
     "name": "stdout",
     "output_type": "stream",
     "text": [
      "The image 1920x1080 has an aspect ratio 16:9\n"
     ]
    }
   ],
   "source": [
    "h = 1920\n",
    "w = 1080\n",
    "\n",
    "h_, w_ = find_aspect_ratio(h=h, w=w)\n",
    "\n",
    "print(f\"The image {h}x{w} has an aspect ratio {h_}:{w_}\")"
   ]
  },
  {
   "cell_type": "markdown",
   "metadata": {},
   "source": [
    "---"
   ]
  }
 ],
 "metadata": {
  "kernelspec": {
   "display_name": "Python 3",
   "language": "python",
   "name": "python3"
  },
  "language_info": {
   "codemirror_mode": {
    "name": "ipython",
    "version": 3
   },
   "file_extension": ".py",
   "mimetype": "text/x-python",
   "name": "python",
   "nbconvert_exporter": "python",
   "pygments_lexer": "ipython3",
   "version": "3.8.5"
  }
 },
 "nbformat": 4,
 "nbformat_minor": 4
}
